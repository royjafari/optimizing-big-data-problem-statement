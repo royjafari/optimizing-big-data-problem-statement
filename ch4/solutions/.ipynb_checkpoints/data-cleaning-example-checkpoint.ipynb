{
 "cells": [
  {
   "cell_type": "markdown",
   "id": "8d182fee",
   "metadata": {},
   "source": [
    "# Zero To Hero Big Data Prepration\n",
    "Taking Advantage of Cloud Technologies to Create Big Data Solutions\n",
    "    \n",
    "    AUTHOR: Dr. Roy Jafari \n",
    "\n",
    "## Chapter 4: Types of Data Manipulations "
   ]
  },
  {
   "cell_type": "markdown",
   "id": "3b359686",
   "metadata": {},
   "source": [
    "#### Data Cleaning\n",
    "\n",
    "##### Data Cleaning Level 1\n",
    "##### Example of Level 1 Data Cleaning – Writing a quick Lookup function"
   ]
  },
  {
   "cell_type": "code",
   "execution_count": 1,
   "id": "12b83281",
   "metadata": {},
   "outputs": [],
   "source": [
    "import pandas as pd"
   ]
  },
  {
   "cell_type": "code",
   "execution_count": 6,
   "id": "207204ad",
   "metadata": {},
   "outputs": [],
   "source": [
    "shop_df = pd.read_csv('https://packt-data-prep-workshop.s3.eu-west-1.amazonaws.com/US_Shops_simulated.csv')"
   ]
  },
  {
   "cell_type": "markdown",
   "id": "f0bb558a",
   "metadata": {},
   "source": [
    "### Creating the functions:"
   ]
  },
  {
   "cell_type": "code",
   "execution_count": 7,
   "id": "d48b24cb",
   "metadata": {},
   "outputs": [
    {
     "name": "stdout",
     "output_type": "stream",
     "text": [
      "Wall time: 0 ns\n"
     ]
    }
   ],
   "source": [
    "%%time\n",
    "def look_up_without(date,state,location):\n",
    "    \n",
    "    BM =( \n",
    "        (shop_df.Date == date) &\n",
    "        (shop_df.State == state) &\n",
    "        (shop_df.Location == location)     \n",
    "    )\n",
    "    \n",
    "    if(sum(BM)==0):\n",
    "        print('There are no records with the inputed values')\n",
    "    else:\n",
    "        return(shop_df[BM].iloc[0])"
   ]
  },
  {
   "cell_type": "code",
   "execution_count": 10,
   "id": "c59730c2",
   "metadata": {},
   "outputs": [
    {
     "name": "stdout",
     "output_type": "stream",
     "text": [
      "Wall time: 3.18 s\n"
     ]
    }
   ],
   "source": [
    "%%time\n",
    "\n",
    "Dates = shop_df.Date.unique()\n",
    "States = shop_df.State.unique()\n",
    "Locations = shop_df.Location.unique()\n",
    "\n",
    "shop_cleaned_df = shop_df.set_index(\n",
    "    ['Date','State','Location']\n",
    ")\n",
    "\n",
    "def look_up_with(date,state,location):\n",
    "    if (\n",
    "        date not in Dates or\n",
    "        state not in States or\n",
    "        location not in Locations\n",
    "    ):\n",
    "        print('no records found')\n",
    "    else:\n",
    "        return(shop_cleaned_df.loc[(date,state,location)])\n"
   ]
  },
  {
   "cell_type": "markdown",
   "id": "2dc0208c",
   "metadata": {},
   "source": [
    "### Using the functions:"
   ]
  },
  {
   "cell_type": "code",
   "execution_count": 17,
   "id": "7582bfad",
   "metadata": {},
   "outputs": [
    {
     "name": "stdout",
     "output_type": "stream",
     "text": [
      "Wall time: 1.4 s\n"
     ]
    },
    {
     "data": {
      "text/plain": [
       "Date                         2022-10-06\n",
       "Month                                10\n",
       "Year                               2022\n",
       "State                           Alabama\n",
       "Location                          Shop3\n",
       "number_of_customer_visits           349\n",
       "revenue                         3661.01\n",
       "profit                            58.58\n",
       "Name: 2, dtype: object"
      ]
     },
     "execution_count": 17,
     "metadata": {},
     "output_type": "execute_result"
    }
   ],
   "source": [
    "%%time\n",
    "look_up_without('2022-10-06','Alabama','Shop3')"
   ]
  },
  {
   "cell_type": "code",
   "execution_count": 18,
   "id": "acc8337c",
   "metadata": {},
   "outputs": [
    {
     "name": "stdout",
     "output_type": "stream",
     "text": [
      "There are no records with the inputed values\n",
      "Wall time: 1.71 s\n"
     ]
    }
   ],
   "source": [
    "%%time\n",
    "look_up_without('xxxx','xxxxx','xxxx')"
   ]
  },
  {
   "cell_type": "code",
   "execution_count": 23,
   "id": "968b791c",
   "metadata": {},
   "outputs": [
    {
     "name": "stdout",
     "output_type": "stream",
     "text": [
      "Wall time: 997 µs\n"
     ]
    },
    {
     "data": {
      "text/plain": [
       "Month                          10.00\n",
       "Year                         2022.00\n",
       "number_of_customer_visits     349.00\n",
       "revenue                      3661.01\n",
       "profit                         58.58\n",
       "Name: (2022-10-06, Alabama, Shop3), dtype: float64"
      ]
     },
     "execution_count": 23,
     "metadata": {},
     "output_type": "execute_result"
    }
   ],
   "source": [
    "%%time\n",
    "look_up_with('2022-10-06','Alabama','Shop3')"
   ]
  },
  {
   "cell_type": "code",
   "execution_count": 24,
   "id": "1e4632fd",
   "metadata": {},
   "outputs": [
    {
     "name": "stdout",
     "output_type": "stream",
     "text": [
      "no records found\n",
      "Wall time: 997 µs\n"
     ]
    }
   ],
   "source": [
    "%%time\n",
    "look_up_with('xxxx','xxxxx','xxxx')"
   ]
  },
  {
   "cell_type": "markdown",
   "id": "e685ff32",
   "metadata": {},
   "source": [
    "### Answering the questions:"
   ]
  },
  {
   "cell_type": "markdown",
   "id": "eae7278c",
   "metadata": {},
   "source": [
    "- Q1: which function takes longer to be created?\n",
    "\n",
    "`look_up_without()` was created much faster.\n",
    "\n",
    "\n",
    "- Q2: which function takes longer to work?\n",
    "\n",
    "`look_up_with()` works about 1000 times faster. \n",
    "\n",
    "\n",
    "- Q3: what is the role of data cleaning level 1 in this example?\n",
    "\n",
    "While the data cleaning level 1, which is indexing the rows that would make the data more codable, takes some time in the beginning, however, once it is done, the data can be searched at lightning speed compared to the alternative.  \n"
   ]
  },
  {
   "cell_type": "code",
   "execution_count": null,
   "id": "67b58d76",
   "metadata": {},
   "outputs": [],
   "source": []
  }
 ],
 "metadata": {
  "kernelspec": {
   "display_name": "Python 3 (ipykernel)",
   "language": "python",
   "name": "python3"
  },
  "language_info": {
   "codemirror_mode": {
    "name": "ipython",
    "version": 3
   },
   "file_extension": ".py",
   "mimetype": "text/x-python",
   "name": "python",
   "nbconvert_exporter": "python",
   "pygments_lexer": "ipython3",
   "version": "3.9.7"
  }
 },
 "nbformat": 4,
 "nbformat_minor": 5
}
